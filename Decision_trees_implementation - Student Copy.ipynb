{
 "cells": [
  {
   "cell_type": "markdown",
   "id": "58706c1d",
   "metadata": {},
   "source": [
    "# Importing Libraries"
   ]
  },
  {
   "cell_type": "code",
   "execution_count": null,
   "id": "3e67ba19",
   "metadata": {},
   "outputs": [],
   "source": [
    "import pandas as pd\n",
    "import matplotlib.pyplot as plt"
   ]
  },
  {
   "cell_type": "code",
   "execution_count": null,
   "id": "8df30677",
   "metadata": {},
   "outputs": [],
   "source": [
    "df = pd.read_csv('https://raw.githubusercontent.com/codebasics/py/master/ML/9_decision_tree/Exercise/titanic.csv')"
   ]
  },
  {
   "cell_type": "code",
   "execution_count": null,
   "id": "8598caa5",
   "metadata": {},
   "outputs": [],
   "source": [
    "df.head()"
   ]
  },
  {
   "cell_type": "code",
   "execution_count": null,
   "id": "5892c689",
   "metadata": {},
   "outputs": [],
   "source": [
    "df = df[['Survived','Pclass','Sex','Age','Fare']]"
   ]
  },
  {
   "cell_type": "code",
   "execution_count": null,
   "id": "c14f19bb",
   "metadata": {},
   "outputs": [],
   "source": [
    "df.head()"
   ]
  },
  {
   "cell_type": "markdown",
   "id": "72de2914",
   "metadata": {},
   "source": [
    "# Cleaning DataSet"
   ]
  },
  {
   "cell_type": "code",
   "execution_count": null,
   "id": "58cd89c8",
   "metadata": {},
   "outputs": [],
   "source": [
    "df.isnull().sum()"
   ]
  },
  {
   "cell_type": "code",
   "execution_count": null,
   "id": "bb3d238a",
   "metadata": {},
   "outputs": [],
   "source": [
    "df.groupby('Sex')['Age'].mean()"
   ]
  },
  {
   "cell_type": "code",
   "execution_count": null,
   "id": "8cde13ec",
   "metadata": {},
   "outputs": [],
   "source": [
    "df['Age']=df.groupby(\"Sex\")['Age'].transform(lambda x: x.fillna(x.mean()))"
   ]
  },
  {
   "cell_type": "markdown",
   "id": "341b8877",
   "metadata": {},
   "source": [
    "# Changing category column to numerical column"
   ]
  },
  {
   "cell_type": "code",
   "execution_count": null,
   "id": "70367618",
   "metadata": {},
   "outputs": [],
   "source": [
    "from sklearn.preprocessing import LabelEncoder"
   ]
  },
  {
   "cell_type": "code",
   "execution_count": null,
   "id": "7c95b073",
   "metadata": {},
   "outputs": [],
   "source": [
    "le = LabelEncoder()"
   ]
  },
  {
   "cell_type": "code",
   "execution_count": null,
   "id": "ce675ca4",
   "metadata": {},
   "outputs": [],
   "source": [
    "# Task 1: Transform the categorical 'Sex' attribute to a numerical format"
   ]
  },
  {
   "cell_type": "code",
   "execution_count": null,
   "id": "b695c880",
   "metadata": {},
   "outputs": [],
   "source": [
    "df.head()"
   ]
  },
  {
   "cell_type": "code",
   "execution_count": null,
   "id": "f2db4653",
   "metadata": {},
   "outputs": [],
   "source": [
    "X = df[['Pclass','Sex','Age','Fare']]\n",
    "y= df['Survived']"
   ]
  },
  {
   "cell_type": "markdown",
   "id": "c83da486",
   "metadata": {},
   "source": [
    "# Doing train_test_split"
   ]
  },
  {
   "cell_type": "code",
   "execution_count": null,
   "id": "5c979f2f",
   "metadata": {},
   "outputs": [],
   "source": [
    "from sklearn.model_selection import train_test_split"
   ]
  },
  {
   "cell_type": "code",
   "execution_count": null,
   "id": "f9b3e316",
   "metadata": {},
   "outputs": [],
   "source": [
    "# Task 2: Split the data considering the testing corpus as 30% and random state to 101."
   ]
  },
  {
   "cell_type": "markdown",
   "id": "b2d6c721",
   "metadata": {},
   "source": [
    "# Training the model\n"
   ]
  },
  {
   "cell_type": "code",
   "execution_count": null,
   "id": "526ef52a",
   "metadata": {},
   "outputs": [],
   "source": [
    "from sklearn.tree import DecisionTreeClassifier"
   ]
  },
  {
   "cell_type": "code",
   "execution_count": null,
   "id": "b2322eef",
   "metadata": {},
   "outputs": [],
   "source": [
    "clf = DecisionTreeClassifier(random_state=0,criterion='gini')\n",
    "clf.fit(X_train,y_train)"
   ]
  },
  {
   "cell_type": "markdown",
   "id": "bc0e31c2",
   "metadata": {},
   "source": [
    "# Checking accuracy of testing dataset"
   ]
  },
  {
   "cell_type": "code",
   "execution_count": null,
   "id": "3dd48dcc",
   "metadata": {},
   "outputs": [],
   "source": [
    "from sklearn.metrics import accuracy_score"
   ]
  },
  {
   "cell_type": "code",
   "execution_count": null,
   "id": "53f0ebb6",
   "metadata": {},
   "outputs": [],
   "source": [
    "predictions_test=clf.predict(X_test)\n",
    "# Task 3: Calculate the accuracy of the testing data"
   ]
  },
  {
   "cell_type": "markdown",
   "id": "4b1ee602",
   "metadata": {},
   "source": [
    "# Checking accuracy of training dataset"
   ]
  },
  {
   "cell_type": "code",
   "execution_count": null,
   "id": "72a39e58",
   "metadata": {},
   "outputs": [],
   "source": [
    "predictions_train = clf.predict(X_train)\n",
    "accuracy_score(y_train,predictions_train)"
   ]
  },
  {
   "cell_type": "markdown",
   "id": "5d60ca85",
   "metadata": {},
   "source": [
    "#### Here we can clearly see that for training dataset our accuracy is very high whereas for test dataset it is very low,hence our model is overfitted and to avoid this we will use Pruning method later."
   ]
  },
  {
   "cell_type": "markdown",
   "id": "5a60d752",
   "metadata": {},
   "source": [
    "# Visualizing our final decision tree"
   ]
  },
  {
   "cell_type": "code",
   "execution_count": null,
   "id": "32015e80",
   "metadata": {},
   "outputs": [],
   "source": [
    "from sklearn import tree\n",
    "plt.figure(figsize=(15,10))\n",
    "tree.plot_tree(clf,filled=True)\n",
    "plt.show()"
   ]
  },
  {
   "cell_type": "markdown",
   "id": "75a47da9",
   "metadata": {},
   "source": [
    "# Evaluating our test dataset"
   ]
  },
  {
   "cell_type": "code",
   "execution_count": null,
   "id": "feffa583",
   "metadata": {},
   "outputs": [],
   "source": [
    "from sklearn.metrics import classification_report,confusion_matrix"
   ]
  },
  {
   "cell_type": "code",
   "execution_count": null,
   "id": "5e9ed745",
   "metadata": {},
   "outputs": [],
   "source": [
    "print(classification_report(y_test,predictions_test))\n",
    "# Task 4: Generate the confusion matrix for evaluating the testing corpus"
   ]
  },
  {
   "cell_type": "markdown",
   "id": "572aa83d",
   "metadata": {},
   "source": [
    "# Evaluating our training dataset"
   ]
  },
  {
   "cell_type": "code",
   "execution_count": null,
   "id": "e6e815ec",
   "metadata": {},
   "outputs": [],
   "source": [
    "print(classification_report(y_train,predictions_train))\n",
    "# Task 5: Generate the confusion matrix for evaluating the training corpus"
   ]
  },
  {
   "cell_type": "markdown",
   "id": "b06dc860",
   "metadata": {},
   "source": [
    "# Finding false positive rate and true positive rate"
   ]
  },
  {
   "cell_type": "code",
   "execution_count": null,
   "id": "4a1f5452",
   "metadata": {},
   "outputs": [],
   "source": [
    "from sklearn.metrics import roc_curve,auc"
   ]
  },
  {
   "cell_type": "code",
   "execution_count": null,
   "id": "bcec559a",
   "metadata": {},
   "outputs": [],
   "source": [
    "dt_probs = clf.predict_proba(X_test)[:,1]"
   ]
  },
  {
   "cell_type": "code",
   "execution_count": null,
   "id": "5d623f83",
   "metadata": {},
   "outputs": [],
   "source": [
    "fpr_dt, tpr_dt, thresholds_dt = roc_curve(y_test,dt_probs)"
   ]
  },
  {
   "cell_type": "markdown",
   "id": "398adf12",
   "metadata": {},
   "source": [
    "# Plotting *ROC* curve for our Decision Tree"
   ]
  },
  {
   "cell_type": "code",
   "execution_count": null,
   "id": "97b5a1a2",
   "metadata": {},
   "outputs": [],
   "source": [
    "auc_score_dt = auc(fpr_dt,tpr_dt)\n",
    "auc_score_dt"
   ]
  },
  {
   "cell_type": "code",
   "execution_count": null,
   "id": "d75b879c",
   "metadata": {},
   "outputs": [],
   "source": [
    "def plot_roc_curve(fpr, tpr):\n",
    "    plt.figure(figsize=(10,8))\n",
    "    plt.plot(fpr_dt, tpr_dt, color='orange', label='AUC = %0.2f' % auc_score_dt)\n",
    "    plt.plot([0, 1], [0, 1], color='darkblue', linestyle='--')\n",
    "    plt.xlabel('False Positive Rate')\n",
    "    plt.ylabel('True Positive Rate')\n",
    "    plt.title('Receiver Operating Characteristic (ROC) Curve')\n",
    "    plt.legend()\n",
    "    plt.show()"
   ]
  },
  {
   "cell_type": "code",
   "execution_count": null,
   "id": "1e085608",
   "metadata": {},
   "outputs": [],
   "source": [
    "plot_roc_curve(fpr_dt,tpr_dt)"
   ]
  },
  {
   "cell_type": "markdown",
   "id": "3b767e5f",
   "metadata": {},
   "source": [
    "# Pruning of our decision tree"
   ]
  },
  {
   "cell_type": "code",
   "execution_count": null,
   "id": "8ee54df0",
   "metadata": {},
   "outputs": [],
   "source": [
    "# Task 6: Obtain the corresponding total leaf impurities at each step of the pruning process\n",
    "ccp_alphas, impurities = path.ccp_alphas, path.impurities"
   ]
  },
  {
   "cell_type": "markdown",
   "id": "1db347ba",
   "metadata": {},
   "source": [
    "# Visualizing alpha w.r.t impurity of leaves"
   ]
  },
  {
   "cell_type": "code",
   "execution_count": null,
   "id": "938d5526",
   "metadata": {},
   "outputs": [],
   "source": [
    "fig, ax = plt.subplots(figsize=(8,5))\n",
    "ax.plot(ccp_alphas[:-1], impurities[:-1], marker='o', drawstyle=\"steps-post\")\n",
    "ax.set_xlabel(\"effective alpha\")\n",
    "ax.set_ylabel(\"total impurity of leaves\")\n",
    "ax.set_title(\"Total Impurity vs effective alpha for training set\")"
   ]
  },
  {
   "cell_type": "code",
   "execution_count": null,
   "id": "e94c8a1e",
   "metadata": {},
   "outputs": [],
   "source": [
    "clfs = []\n",
    "for ccp_alpha in ccp_alphas:\n",
    "    clf = DecisionTreeClassifier(random_state=0, ccp_alpha=ccp_alpha)\n",
    "    clf.fit(X_train, y_train)\n",
    "    clfs.append(clf)\n",
    "print(\"Number of nodes in the last tree is: {} with ccp_alpha: {}\".format(\n",
    "      clfs[-1].tree_.node_count, ccp_alphas[-1]))"
   ]
  },
  {
   "cell_type": "code",
   "execution_count": null,
   "id": "0e6fb248",
   "metadata": {},
   "outputs": [],
   "source": [
    "clfs = clfs[:-1]\n",
    "ccp_alphas = ccp_alphas[:-1]\n",
    "\n",
    "node_counts = [clf.tree_.node_count for clf in clfs]\n",
    "depth = [clf.tree_.max_depth for clf in clfs]\n",
    "fig, ax = plt.subplots(2, 1,figsize=(10,8))\n",
    "ax[0].plot(ccp_alphas, node_counts, marker='o', drawstyle=\"steps-post\")\n",
    "ax[0].set_xlabel(\"alpha\")\n",
    "ax[0].set_ylabel(\"number of nodes\")\n",
    "ax[0].set_title(\"Number of nodes vs alpha\")\n",
    "ax[1].plot(ccp_alphas, depth, marker='o', drawstyle=\"steps-post\")\n",
    "ax[1].set_xlabel(\"alpha\")\n",
    "ax[1].set_ylabel(\"depth of tree\")\n",
    "ax[1].set_title(\"Depth vs alpha\")\n",
    "fig.tight_layout()"
   ]
  },
  {
   "cell_type": "code",
   "execution_count": null,
   "id": "26ed62ce",
   "metadata": {},
   "outputs": [],
   "source": [
    "train_scores = [clf.score(X_train, y_train) for clf in clfs]\n",
    "test_scores = [clf.score(X_test, y_test) for clf in clfs]\n",
    "\n",
    "fig, ax = plt.subplots(figsize=(10,8))\n",
    "ax.set_xlabel(\"alpha\")\n",
    "ax.set_ylabel(\"accuracy\")\n",
    "ax.set_title(\"Accuracy vs alpha for training and testing sets\")\n",
    "ax.plot(ccp_alphas, train_scores, marker='o', label=\"train\",\n",
    "        drawstyle=\"steps-post\")\n",
    "ax.plot(ccp_alphas, test_scores, marker='o', label=\"test\",\n",
    "        drawstyle=\"steps-post\")\n",
    "ax.legend()\n",
    "plt.grid()\n",
    "plt.show()"
   ]
  },
  {
   "cell_type": "markdown",
   "id": "e3de08dd",
   "metadata": {},
   "source": [
    "# Accuracy after pruning"
   ]
  },
  {
   "cell_type": "code",
   "execution_count": null,
   "id": "4e38762b",
   "metadata": {},
   "outputs": [],
   "source": [
    "clf = DecisionTreeClassifier(random_state=0, ccp_alpha=0.016)\n",
    "clf.fit(X_train,y_train)"
   ]
  },
  {
   "cell_type": "markdown",
   "id": "c0e2c088",
   "metadata": {},
   "source": [
    "### Accuracy of test dataset"
   ]
  },
  {
   "cell_type": "code",
   "execution_count": null,
   "id": "e2a984bc",
   "metadata": {},
   "outputs": [],
   "source": [
    "from sklearn.metrics import accuracy_score"
   ]
  },
  {
   "cell_type": "code",
   "execution_count": null,
   "id": "9f919df8",
   "metadata": {},
   "outputs": [],
   "source": [
    "pred=clf.predict(X_test)\n",
    "accuracy_score(y_test, pred)"
   ]
  },
  {
   "cell_type": "markdown",
   "id": "bb44d8e3",
   "metadata": {},
   "source": [
    "### Accuracy of training dataset"
   ]
  },
  {
   "cell_type": "code",
   "execution_count": null,
   "id": "e5509998",
   "metadata": {},
   "outputs": [],
   "source": [
    "pred_1 = clf.predict(X_train)\n",
    "accuracy_score(y_train,pred_1)"
   ]
  },
  {
   "cell_type": "markdown",
   "id": "7780181b",
   "metadata": {},
   "source": [
    "# Visualizing after pruning"
   ]
  },
  {
   "cell_type": "code",
   "execution_count": null,
   "id": "d326e7fb",
   "metadata": {},
   "outputs": [],
   "source": [
    "from sklearn import tree\n",
    "plt.figure(figsize=(15,10))\n",
    "tree.plot_tree(clf,filled=True)"
   ]
  },
  {
   "cell_type": "code",
   "execution_count": null,
   "id": "bff699b4",
   "metadata": {},
   "outputs": [],
   "source": []
  }
 ],
 "metadata": {
  "kernelspec": {
   "display_name": "Python 3",
   "language": "python",
   "name": "python3"
  },
  "language_info": {
   "codemirror_mode": {
    "name": "ipython",
    "version": 3
   },
   "file_extension": ".py",
   "mimetype": "text/x-python",
   "name": "python",
   "nbconvert_exporter": "python",
   "pygments_lexer": "ipython3",
   "version": "3.8.8"
  }
 },
 "nbformat": 4,
 "nbformat_minor": 5
}
