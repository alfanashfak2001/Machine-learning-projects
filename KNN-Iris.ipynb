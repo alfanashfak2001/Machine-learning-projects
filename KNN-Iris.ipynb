{
 "nbformat": 4,
 "nbformat_minor": 0,
 "metadata": {
  "kernelspec": {
   "display_name": "Python [default]",
   "language": "python",
   "name": "python3"
  },
  "language_info": {
   "codemirror_mode": {
    "name": "ipython",
    "version": 3
   },
   "file_extension": ".py",
   "mimetype": "text/x-python",
   "name": "python",
   "nbconvert_exporter": "python",
   "pygments_lexer": "ipython3",
   "version": "3.6.1"
  },
  "colab": {
   "name": "KNN-Iris.ipynb",
   "provenance": [],
   "include_colab_link": true
  }
 },
 "cells": [
  {
   "cell_type": "markdown",
   "metadata": {
    "id": "view-in-github",
    "colab_type": "text"
   },
   "source": [
    "<a href=\"https://colab.research.google.com/github/mohan-mj/KNN_K-Nearest-Neighbor/blob/master/KNN-Iris.ipynb\" target=\"_parent\"><img src=\"https://colab.research.google.com/assets/colab-badge.svg\" alt=\"Open In Colab\"/></a>"
   ]
  },
  {
   "cell_type": "code",
   "metadata": {
    "collapsed": true,
    "id": "xGmY5cd1F0Uv"
   },
   "source": [
    "# import libs\n",
    "import numpy as np\n",
    "import matplotlib.pyplot as plt\n",
    "from matplotlib.colors import ListedColormap\n",
    "from sklearn import neighbors, datasets"
   ],
   "execution_count": null,
   "outputs": []
  },
  {
   "cell_type": "code",
   "metadata": {
    "colab": {
     "base_uri": "https://localhost:8080/"
    },
    "id": "TeLH2CeHF0Uy",
    "outputId": "910224b1-af72-4589-a6d5-2c9829d84829"
   },
   "source": [
    "# import some data to play with\n",
    "irisData = datasets.load_iris()\n",
    "irisData.data"
   ],
   "execution_count": null,
   "outputs": []
  },
  {
   "cell_type": "markdown",
   "metadata": {
    "id": "RiP6eW0HF0U0"
   },
   "source": [
    "**Attribute Information**\n",
    "    - sepal length in cm\n",
    "    - sepal width in cm\n",
    "    - petal length in cm\n",
    "    - petal width in cm\n",
    "    - class:\n",
    "            - Iris-Setosa\n",
    "            - Iris-Versicolour\n",
    "            - Iris-Virginica"
   ]
  },
  {
   "cell_type": "code",
   "metadata": {
    "collapsed": true,
    "id": "q1Uam6wCF0U1"
   },
   "source": [
    "# we only take the first two features for learning purpose\n",
    "X = irisData.data[:, :2]\n",
    "y = irisData.target"
   ],
   "execution_count": null,
   "outputs": []
  },
  {
   "cell_type": "code",
   "metadata": {
    "collapsed": true,
    "id": "wldxAx9rF0U1"
   },
   "source": [
    "n_neighbors = 15"
   ],
   "execution_count": null,
   "outputs": []
  },
  {
   "cell_type": "markdown",
   "metadata": {
    "id": "tS1THpQIF0U2"
   },
   "source": [
    "The basic nearest neighbors classification uses uniform weights: that is, the value assigned to a query point is computed from a simple majority vote of the nearest neighbors. Under some circumstances, it is better to weight the neighbors such that nearer neighbors contribute more to the fit. <br>\n",
    "This can be accomplished through the weights keyword. <br>\n",
    "The default value, **weights = 'uniform'**, assigns uniform weights to each neighbor. <br>\n",
    "**weights = 'distance'** assigns weights proportional to the inverse of the distance from the query point."
   ]
  },
  {
   "cell_type": "code",
   "metadata": {
    "colab": {
     "base_uri": "https://localhost:8080/",
     "height": 581
    },
    "id": "GRYJkzvxF0U2",
    "outputId": "7a454578-6509-4992-c0b7-d35eace78de0"
   },
   "source": [
    "step = .01  # step size in the mesh\n",
    "\n",
    "for weights in ['uniform', 'distance']:\n",
    "    # we create an instance of Neighbours Classifier and fit the data.\n",
    "    classifier = neighbors.KNeighborsClassifier(n_neighbors, weights=weights)\n",
    "    classifier.fit(X, y)\n",
    "    \n",
    "    print('KNN classifier accuracy - \"%s\" - %.3f' % (weights,classifier.score(X,y)))\n",
    "    \n",
    "    # Plot the decision boundary. For that, we will assign a color to each\n",
    "    # point in the mesh [x_min, x_max]x[y_min, y_max].\n",
    "    x_min, x_max = X[:, 0].min() - 1, X[:, 0].max() + 1\n",
    "    y_min, y_max = X[:, 1].min() - 1, X[:, 1].max() + 1\n",
    "    x_grid, y_grid = np.meshgrid(np.arange(x_min, x_max, step = step),\n",
    "                         np.arange(y_min, y_max, step = step))\n",
    "    Z = classifier.predict(np.c_[x_grid.ravel(), y_grid.ravel()])\n",
    "\n",
    "    # Put the result into a color plot\n",
    "    Z = Z.reshape(x_grid.shape)\n",
    "    plt.figure()\n",
    "    plt.pcolormesh(x_grid, y_grid, Z, cmap=ListedColormap(['lightblue', 'lightgreen', 'lightyellow']) )\n",
    "\n",
    "    # Plot also the training points\n",
    "    plt.scatter(X[:, 0], X[:, 1], c=y, \n",
    "                edgecolor='k', s=20)\n",
    "    plt.xlim(x_grid.min(), x_grid.max())\n",
    "    plt.ylim(y_grid.min(), y_grid.max())\n",
    "    plt.title(\"KNN 3-Class Classification (k = %d, weights = '%s')\"\n",
    "              % (n_neighbors, weights))\n",
    "\n",
    "\n",
    "plt.show()"
   ],
   "execution_count": null,
   "outputs": []
  },
  {
   "cell_type": "markdown",
   "metadata": {
    "id": "hO5ngN6iF0U4"
   },
   "source": [
    "### Visualization - Detailed"
   ]
  },
  {
   "cell_type": "code",
   "metadata": {
    "colab": {
     "base_uri": "https://localhost:8080/"
    },
    "id": "1mZyZ1_eF0U4",
    "outputId": "ecb73d71-7f27-4ae3-ca1b-c115e07f9686"
   },
   "source": [
    "weights ='uniform'\n",
    "# we create an instance of Neighbours Classifier and fit the data.\n",
    "classifier = neighbors.KNeighborsClassifier(n_neighbors, weights=weights)\n",
    "classifier.fit(X, y)\n",
    "\n",
    "print('KNN classifier accuracy - \"%s\" - %.3f' % (weights,classifier.score(X,y)))"
   ],
   "execution_count": null,
   "outputs": []
  },
  {
   "cell_type": "code",
   "metadata": {
    "collapsed": true,
    "id": "WZgRAtqlF0U5"
   },
   "source": [
    "# Plot the decision boundary. For that, we will assign a color to each\n",
    "# point in the mesh [x_min, x_max]x[y_min, y_max].\n",
    "x_min, x_max = X[:, 0].min() - 1, X[:, 0].max() + 1\n",
    "y_min, y_max = X[:, 1].min() - 1, X[:, 1].max() + 1"
   ],
   "execution_count": null,
   "outputs": []
  },
  {
   "cell_type": "code",
   "metadata": {
    "colab": {
     "base_uri": "https://localhost:8080/"
    },
    "id": "x3MrF7MRF0U6",
    "outputId": "c5244275-064c-44a6-9f34-3a2a14f8a916"
   },
   "source": [
    "x_grid, y_grid = np.meshgrid(np.arange(x_min, x_max, step = step),\n",
    "                     np.arange(y_min, y_max, step = step))\n",
    "\n",
    "x_grid"
   ],
   "execution_count": null,
   "outputs": []
  },
  {
   "cell_type": "code",
   "metadata": {
    "colab": {
     "base_uri": "https://localhost:8080/"
    },
    "id": "H7A7SvuqF0U6",
    "outputId": "0a0ce420-16f1-471a-dd2b-d13d3a9224ab"
   },
   "source": [
    "y_grid"
   ],
   "execution_count": null,
   "outputs": []
  },
  {
   "cell_type": "code",
   "metadata": {
    "collapsed": true,
    "id": "I-kSKzwWF0U6"
   },
   "source": [
    "Z = classifier.predict(np.array([x_grid.ravel(), y_grid.ravel()]).T).reshape(x_grid.shape)"
   ],
   "execution_count": null,
   "outputs": []
  },
  {
   "cell_type": "code",
   "metadata": {
    "colab": {
     "base_uri": "https://localhost:8080/"
    },
    "id": "7iZut7saF0U7",
    "outputId": "9211885c-4ca0-44cd-ace0-f9a4c97b5212"
   },
   "source": [
    "np.array([x_grid.ravel(), y_grid.ravel()])"
   ],
   "execution_count": null,
   "outputs": []
  },
  {
   "cell_type": "code",
   "metadata": {
    "colab": {
     "base_uri": "https://localhost:8080/"
    },
    "id": "8COT4QAjF0U7",
    "outputId": "00f63bda-13e5-4015-b926-ee2ed6f03175"
   },
   "source": [
    "np.array([x_grid.ravel(), y_grid.ravel()]).shape"
   ],
   "execution_count": null,
   "outputs": []
  },
  {
   "cell_type": "code",
   "metadata": {
    "colab": {
     "base_uri": "https://localhost:8080/"
    },
    "id": "uC21Whk_F0U7",
    "outputId": "e06fe7c6-3aab-47db-b3e8-9793ea338834"
   },
   "source": [
    "np.array([x_grid.ravel(), y_grid.ravel()]).T"
   ],
   "execution_count": null,
   "outputs": []
  },
  {
   "cell_type": "code",
   "metadata": {
    "colab": {
     "base_uri": "https://localhost:8080/"
    },
    "id": "bi7BoGNlF0U8",
    "outputId": "4686681b-fe37-45b1-be06-5f1a2d0dbba0"
   },
   "source": [
    "classifier.predict(np.array([x_grid.ravel(), y_grid.ravel()]).T)"
   ],
   "execution_count": null,
   "outputs": []
  },
  {
   "cell_type": "code",
   "metadata": {
    "colab": {
     "base_uri": "https://localhost:8080/"
    },
    "id": "VRAmCBzbF0U8",
    "outputId": "3cf278aa-a08d-4680-e63c-92a746db9c68"
   },
   "source": [
    "classifier.predict(np.array([x_grid.ravel(), y_grid.ravel()]).T).reshape(x_grid.shape)"
   ],
   "execution_count": null,
   "outputs": []
  },
  {
   "cell_type": "code",
   "metadata": {
    "colab": {
     "base_uri": "https://localhost:8080/",
     "height": 281
    },
    "id": "egoBWjZQF0U9",
    "outputId": "9c6db15a-a5cb-40b1-e663-6a6478a04a4a"
   },
   "source": [
    "plt.figure()\n",
    "plt.contourf(x_grid, y_grid, Z, cmap=ListedColormap(['lightblue', 'lightgreen', 'lightyellow']) )\n",
    "\n",
    "# Plot also the training points\n",
    "plt.scatter(X[:, 0], X[:, 1], c=y, \n",
    "            edgecolor='k', s=20)\n",
    "plt.xlim(x_grid.min(), x_grid.max())\n",
    "plt.ylim(y_grid.min(), y_grid.max())\n",
    "plt.title(\"KNN 3-Class Classification (k = %d, weights = '%s')\"\n",
    "          % (n_neighbors, weights))\n",
    "plt.show()"
   ],
   "execution_count": null,
   "outputs": []
  },
  {
   "cell_type": "code",
   "metadata": {
    "collapsed": true,
    "id": "VRpQQUyTF0U9"
   },
   "source": [],
   "execution_count": null,
   "outputs": []
  }
 ]
}
